{
 "cells": [
  {
   "cell_type": "code",
   "execution_count": 1,
   "id": "ce390e21-b781-4f17-a19b-b6080cdc03d5",
   "metadata": {},
   "outputs": [],
   "source": [
    "import pandas as pd\n",
    "import numpy as np\n",
    "import requests\n",
    "from sklearn.preprocessing import MinMaxScaler\n",
    "from datetime import datetime\n"
   ]
  },
  {
   "cell_type": "code",
   "execution_count": 2,
   "id": "f470b004-88e4-42d0-bed9-843b9f6291a5",
   "metadata": {},
   "outputs": [],
   "source": [
    "wallets = pd.read_csv(\"wallets.csv\")  # after downloading from Google Sheet\n"
   ]
  },
  {
   "cell_type": "code",
   "execution_count": 7,
   "id": "9c166171-2db5-4601-97da-fdf2160e53cc",
   "metadata": {},
   "outputs": [],
   "source": [
    "def get_wallet_data(wallet_address):\n",
    "    return {\n",
    "        \"wallet_id\": wallet_address,\n",
    "        \"total_supply\": 1000,  # Replace with real API result\n",
    "        \"total_borrow\": 600,\n",
    "        \"borrow_supply_ratio\": 0.6\n",
    "    }\n"
   ]
  },
  {
   "cell_type": "code",
   "execution_count": 8,
   "id": "32edcd51-1a94-49df-9f78-161b32e1a0f5",
   "metadata": {},
   "outputs": [],
   "source": [
    "# Example: loading wallets from Google Sheet\n",
    "url = \"https://docs.google.com/spreadsheets/d/1ZzaeMgNYnxvriYYpe8PE7uMEblTI0GV5GIVUnsP-sBs/export?format=csv\"\n",
    "wallet_df = pd.read_csv(url)\n"
   ]
  },
  {
   "cell_type": "code",
   "execution_count": 9,
   "id": "1f61c83c-c4a0-4600-a5fc-5718833f2103",
   "metadata": {},
   "outputs": [],
   "source": [
    "wallet_features = []\n",
    "\n",
    "for wallet in wallet_df['wallet_id']:\n",
    "    data = get_wallet_data(wallet)\n",
    "    wallet_features.append(data)\n",
    "\n",
    "features_df = pd.DataFrame(wallet_features)\n"
   ]
  },
  {
   "cell_type": "code",
   "execution_count": 10,
   "id": "477e177e-fe26-4310-b1a2-4a7b0d3d9852",
   "metadata": {},
   "outputs": [],
   "source": [
    "from sklearn.preprocessing import MinMaxScaler\n",
    "\n",
    "scaler = MinMaxScaler()\n",
    "features_to_normalize = ['total_supply', 'total_borrow', 'borrow_supply_ratio']\n",
    "features_df[features_to_normalize] = scaler.fit_transform(features_df[features_to_normalize])\n"
   ]
  },
  {
   "cell_type": "code",
   "execution_count": 11,
   "id": "8f0e8ff7-e695-403b-9202-46da65a2e984",
   "metadata": {},
   "outputs": [],
   "source": [
    "# Example weights\n",
    "features_df['score_raw'] = (\n",
    "    0.4 * features_df['borrow_supply_ratio'] +\n",
    "    0.3 * features_df['total_borrow'] +\n",
    "    0.3 * features_df['total_supply']\n",
    ")\n",
    "\n",
    "# Scale to 0–1000\n",
    "features_df['score'] = (\n",
    "    (features_df['score_raw'] - features_df['score_raw'].min()) /\n",
    "    (features_df['score_raw'].max() - features_df['score_raw'].min())\n",
    ") * 1000\n"
   ]
  },
  {
   "cell_type": "code",
   "execution_count": 12,
   "id": "bf0f86f9-2d92-4677-90a4-d2fec3fe8afc",
   "metadata": {},
   "outputs": [],
   "source": [
    "features_df[['wallet_id', 'score']].to_csv(\"wallet_scores.csv\", index=False)\n"
   ]
  },
  {
   "cell_type": "markdown",
   "id": "774b747f-18c4-4e55-85bf-26e1ac2556c1",
   "metadata": {},
   "source": [
    "## Data Collection\n",
    "\n",
    "- Wallets were loaded from the provided Google Sheet.\n",
    "- For each wallet, mock data was generated using a function.\n",
    "- In production, this would connect to Compound's subgraph or REST API.\n",
    "\n",
    "## Feature Selection\n",
    "\n",
    "- **total_supply**: Total value supplied to the protocol\n",
    "- **total_borrow**: Total borrowed amount\n",
    "- **borrow_supply_ratio**: Indicator of leverage risk\n",
    "\n",
    "## Risk Scoring Logic\n",
    "\n",
    "The score is calculated using a weighted sum:\n",
    "\n",
    "- 40%: borrow/supply ratio (higher ratio = more risk)\n",
    "- 30%: total borrow (larger borrow = more exposure)\n",
    "- 30%: total supply (more supply = safer profile)\n",
    "\n",
    "All scores are normalized to a 0–1000 scale.\n"
   ]
  },
  {
   "cell_type": "code",
   "execution_count": 16,
   "id": "c53725e2-48b0-4918-b26d-011d2f6f5153",
   "metadata": {},
   "outputs": [],
   "source": [
    "features_df[['wallet_id', 'score']].to_csv(\"wallet_scores.csv\", index=False)\n"
   ]
  },
  {
   "cell_type": "code",
   "execution_count": null,
   "id": "2043bd8e-a2f7-4a9c-bd03-ca5846c589ed",
   "metadata": {},
   "outputs": [],
   "source": []
  }
 ],
 "metadata": {
  "kernelspec": {
   "display_name": "Python 3 (ipykernel)",
   "language": "python",
   "name": "python3"
  },
  "language_info": {
   "codemirror_mode": {
    "name": "ipython",
    "version": 3
   },
   "file_extension": ".py",
   "mimetype": "text/x-python",
   "name": "python",
   "nbconvert_exporter": "python",
   "pygments_lexer": "ipython3",
   "version": "3.12.6"
  }
 },
 "nbformat": 4,
 "nbformat_minor": 5
}
