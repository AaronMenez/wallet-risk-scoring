{
 "cells": [
  {
   "cell_type": "code",
   "execution_count": 18,
   "id": "ce390e21-b781-4f17-a19b-b6080cdc03d5",
   "metadata": {},
   "outputs": [],
   "source": [
    "import pandas as pd\n",
    "import numpy as np\n",
    "import requests\n",
    "from sklearn.preprocessing import MinMaxScaler\n",
    "from datetime import datetime\n"
   ]
  },
  {
   "cell_type": "code",
   "execution_count": 19,
   "id": "f470b004-88e4-42d0-bed9-843b9f6291a5",
   "metadata": {},
   "outputs": [],
   "source": [
    "wallets = pd.read_csv(\"wallets.csv\")  # after downloading from Google Sheet\n"
   ]
  },
  {
   "cell_type": "code",
   "execution_count": 43,
   "id": "9c166171-2db5-4601-97da-fdf2160e53cc",
   "metadata": {},
   "outputs": [],
   "source": [
    "import random\n",
    "\n",
    "def get_wallet_data(wallet_address):\n",
    "    total_supply = random.uniform(500, 5000)\n",
    "    total_borrow = random.uniform(0, total_supply)  # borrow ≤ supply\n",
    "    borrow_supply_ratio = total_borrow / total_supply if total_supply > 0 else 0\n",
    "\n",
    "    return {\n",
    "        \"wallet_id\": wallet_address,\n",
    "        \"total_supply\": total_supply,\n",
    "        \"total_borrow\": total_borrow,\n",
    "        \"borrow_supply_ratio\": borrow_supply_ratio\n",
    "    }\n"
   ]
  },
  {
   "cell_type": "code",
   "execution_count": 44,
   "id": "32edcd51-1a94-49df-9f78-161b32e1a0f5",
   "metadata": {},
   "outputs": [],
   "source": [
    "# Example: loading wallets from Google Sheet\n",
    "url = \"https://docs.google.com/spreadsheets/d/1ZzaeMgNYnxvriYYpe8PE7uMEblTI0GV5GIVUnsP-sBs/export?format=csv\"\n",
    "wallet_df = pd.read_csv(url)\n"
   ]
  },
  {
   "cell_type": "code",
   "execution_count": 45,
   "id": "1f61c83c-c4a0-4600-a5fc-5718833f2103",
   "metadata": {},
   "outputs": [],
   "source": [
    "wallet_features = []\n",
    "\n",
    "for wallet in wallet_df['wallet_id']:\n",
    "    data = get_wallet_data(wallet)\n",
    "    wallet_features.append(data)\n",
    "\n",
    "features_df = pd.DataFrame(wallet_features)\n"
   ]
  },
  {
   "cell_type": "code",
   "execution_count": 46,
   "id": "477e177e-fe26-4310-b1a2-4a7b0d3d9852",
   "metadata": {},
   "outputs": [],
   "source": [
    "from sklearn.preprocessing import MinMaxScaler\n",
    "\n",
    "scaler = MinMaxScaler()\n",
    "features_to_normalize = ['total_supply', 'total_borrow', 'borrow_supply_ratio']\n",
    "features_df[features_to_normalize] = scaler.fit_transform(features_df[features_to_normalize])\n"
   ]
  },
  {
   "cell_type": "code",
   "execution_count": 47,
   "id": "8f0e8ff7-e695-403b-9202-46da65a2e984",
   "metadata": {},
   "outputs": [],
   "source": [
    "features_df['score_raw'] = (\n",
    "    0.4 * features_df['borrow_supply_ratio'] +\n",
    "    0.3 * features_df['total_borrow'] +\n",
    "    0.3 * features_df['total_supply']\n",
    ")\n",
    "\n",
    "# Normalize to 0–1000\n",
    "score_range = features_df['score_raw'].max() - features_df['score_raw'].min()\n",
    "\n",
    "if score_range == 0:\n",
    "    features_df['score'] = 500\n",
    "else:\n",
    "    features_df['score'] = (\n",
    "        (features_df['score_raw'] - features_df['score_raw'].min()) / score_range\n",
    "    ) * 1000\n"
   ]
  },
  {
   "cell_type": "code",
   "execution_count": 48,
   "id": "500a0c5b-de78-41b4-804f-d960e9311317",
   "metadata": {},
   "outputs": [
    {
     "name": "stdout",
     "output_type": "stream",
     "text": [
      "                                    wallet_id       score\n",
      "0  0x0039f22efb07a647557c7c5d17854cfd6d489ef3   33.122744\n",
      "1  0x06b51c6882b27cb05e712185531c1f74996dd988  230.653943\n",
      "2  0x0795732aacc448030ef374374eaae57d2965c16c  378.544501\n",
      "3  0x0aaa79f1a86bc8136cd0d1ca0d51964f4e3766f9  556.148394\n",
      "4  0x0fe383e5abc200055a7f391f94a5f5d1f844b9ae  100.934874\n",
      "0\n"
     ]
    }
   ],
   "source": [
    "print(features_df[['wallet_id', 'score']].head())\n",
    "print(features_df['score'].isnull().sum())"
   ]
  },
  {
   "cell_type": "code",
   "execution_count": 50,
   "id": "4a26e158-853a-463b-b60b-4a953c7d3afb",
   "metadata": {},
   "outputs": [],
   "source": [
    "features_df['score'] = features_df['score'].round().astype(int)\n",
    "features_df = features_df.sort_values(by='score', ascending=False)"
   ]
  },
  {
   "cell_type": "code",
   "execution_count": 51,
   "id": "bf0f86f9-2d92-4677-90a4-d2fec3fe8afc",
   "metadata": {},
   "outputs": [],
   "source": [
    "features_df[['wallet_id', 'score']].to_csv(\"wallet_scores.csv\", index=False)\n"
   ]
  },
  {
   "cell_type": "markdown",
   "id": "774b747f-18c4-4e55-85bf-26e1ac2556c1",
   "metadata": {},
   "source": [
    "## Data Collection\n",
    "\n",
    "- Wallets were loaded from the provided Google Sheet.\n",
    "- For each wallet, mock data was generated using a function.\n",
    "- In production, this would connect to Compound's subgraph or REST API.\n",
    "\n",
    "## Feature Selection\n",
    "\n",
    "- **total_supply**: Total value supplied to the protocol\n",
    "- **total_borrow**: Total borrowed amount\n",
    "- **borrow_supply_ratio**: Indicator of leverage risk\n",
    "\n",
    "## Risk Scoring Logic\n",
    "\n",
    "The score is calculated using a weighted sum:\n",
    "\n",
    "- 40%: borrow/supply ratio (higher ratio = more risk)\n",
    "- 30%: total borrow (larger borrow = more exposure)\n",
    "- 30%: total supply (more supply = safer profile)\n",
    "\n",
    "All scores are normalized to a 0–1000 scale.\n"
   ]
  },
  {
   "cell_type": "code",
   "execution_count": 55,
   "id": "2043bd8e-a2f7-4a9c-bd03-ca5846c589ed",
   "metadata": {},
   "outputs": [
    {
     "name": "stdout",
     "output_type": "stream",
     "text": [
      "                                     wallet_id  score\n",
      "13  0x1c1b30ca93ef57452d53885d97a74f61daf2bf4f   1000\n",
      "7   0x124853fecb522c57d9bd5c21231058696ca6d596    961\n",
      "31  0x4db0a72edb5ea6c55df929f76e7d5bb14e389860    955\n",
      "28  0x4839e666e2baf12a51bf004392b35972eeddeabf    921\n",
      "14  0x1e43dacdcf863676a6bec8f7d6896d6252fac669    876\n",
      "75  0xa7f3c74f0255796fd5d3ddcf88db769f7a6bf46a    871\n",
      "56  0x7e3eab408b9c76a13305ef34606f17c16f7b33cc    817\n",
      "62  0x880a0af12da55df1197f41697c1a1b61670ed410    806\n",
      "42  0x612a3500559be7be7703de6dc397afb541a16f7f    787\n",
      "52  0x7b4636320daa0bc055368a4f9b9d01bd8ac51877    774\n"
     ]
    }
   ],
   "source": [
    "print(features_df[['wallet_id', 'score']].head(10))\n"
   ]
  },
  {
   "cell_type": "code",
   "execution_count": null,
   "id": "fbf880f6-38f8-4c9a-8a1b-a8ec125454e9",
   "metadata": {},
   "outputs": [],
   "source": []
  }
 ],
 "metadata": {
  "kernelspec": {
   "display_name": "Python 3 (ipykernel)",
   "language": "python",
   "name": "python3"
  },
  "language_info": {
   "codemirror_mode": {
    "name": "ipython",
    "version": 3
   },
   "file_extension": ".py",
   "mimetype": "text/x-python",
   "name": "python",
   "nbconvert_exporter": "python",
   "pygments_lexer": "ipython3",
   "version": "3.12.6"
  }
 },
 "nbformat": 4,
 "nbformat_minor": 5
}
